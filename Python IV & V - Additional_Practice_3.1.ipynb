{
 "cells": [
  {
   "cell_type": "markdown",
   "metadata": {},
   "source": [
    "## Write a python program which creates a class named Cone and write a function calculate_area which calculates the area of the Cone.\n",
    "\n",
    "Sample Execution:\n",
    "\n",
    "Please enter the radius of the cone: 4\n",
    "\n",
    "Please enter the height of the cone: 5\n",
    "\n",
    "Area of a cone with radius: 4.00 and height: 5.00 is: 83.73"
   ]
  },
  {
   "cell_type": "code",
   "execution_count": 4,
   "metadata": {},
   "outputs": [
    {
     "name": "stdout",
     "output_type": "stream",
     "text": [
      "Enter radius of cone: 4\n",
      "Enter height of cone: 5\n",
      "Area of cone with radius :4.0 and Height of the cone: 5.0 is: 83.7758040957278\n"
     ]
    }
   ],
   "source": [
    "import math\n",
    "class Cone:\n",
    "    def __init__(self, Radius, Height):\n",
    "        self.rad = Radius\n",
    "        self.hght = Height\n",
    "    def area(self):\n",
    "        return ((1.0/3) * math.pi * self.rad * self.rad * self.hght)\n",
    "rad = float(input(\"Enter radius of cone: \"))\n",
    "hgt = float(input(\"Enter height of cone: \"))\n",
    "instance = Cone(rad,hgt)\n",
    "print(\"Area of cone with radius :{} and Height of the cone: {} is: \" .format(rad,hgt) + str(instance.area()) )"
   ]
  },
  {
   "cell_type": "markdown",
   "metadata": {},
   "source": [
    "## 2) Define a class MathOperation which implements pow(x,n) without using python's in-built pow() method\n",
    "\n",
    "Sample Execution:\n",
    "\n",
    "M = MathOperation()\n",
    "\n",
    "print(M.pow(2, 3))\n",
    "8\n",
    "\n",
    "print(M.pow(5, -3))\n",
    "0.008\n",
    "\n",
    "print(M.pow(-2, 5))\n",
    "-32\n",
    "\n",
    "print(M.pow(-5, -3))\n",
    "-0.008\n",
    "\n",
    "print(M.pow(20000,0))\n",
    "1"
   ]
  },
  {
   "cell_type": "code",
   "execution_count": null,
   "metadata": {},
   "outputs": [],
   "source": []
  }
 ],
 "metadata": {
  "kernelspec": {
   "display_name": "Python 3",
   "language": "python",
   "name": "python3"
  },
  "language_info": {
   "codemirror_mode": {
    "name": "ipython",
    "version": 3
   },
   "file_extension": ".py",
   "mimetype": "text/x-python",
   "name": "python",
   "nbconvert_exporter": "python",
   "pygments_lexer": "ipython3",
   "version": "3.7.1"
  }
 },
 "nbformat": 4,
 "nbformat_minor": 2
}
