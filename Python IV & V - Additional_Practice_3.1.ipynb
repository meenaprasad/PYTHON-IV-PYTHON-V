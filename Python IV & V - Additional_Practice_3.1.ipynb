{
 "cells": [
  {
   "cell_type": "markdown",
   "metadata": {},
   "source": [
    "## 1) Write a python program which creates a class named Cone and write a function calculate_area which calculates the area of the Cone.\n",
    "\n",
    "Sample Execution:\n",
    "\n",
    "Please enter the radius of the cone: 4\n",
    "\n",
    "Please enter the height of the cone: 5\n",
    "\n",
    "Area of a cone with radius: 4.00 and height: 5.00 is: 83.73"
   ]
  },
  {
   "cell_type": "code",
   "execution_count": 4,
   "metadata": {},
   "outputs": [
    {
     "name": "stdout",
     "output_type": "stream",
     "text": [
      "Enter radius of cone: 4\n",
      "Enter height of cone: 5\n",
      "Area of cone with radius :4.0 and Height of the cone: 5.0 is: 83.7758040957278\n"
     ]
    }
   ],
   "source": [
    "import math\n",
    "class Cone:\n",
    "    def __init__(self, Radius, Height):\n",
    "        self.rad = Radius\n",
    "        self.hght = Height\n",
    "    def area(self):\n",
    "        return ((1.0/3) * math.pi * self.rad * self.rad * self.hght)\n",
    "rad = float(input(\"Enter radius of cone: \"))\n",
    "hgt = float(input(\"Enter height of cone: \"))\n",
    "instance = Cone(rad,hgt)\n",
    "print(\"Area of cone with radius :{} and Height of the cone: {} is: \" .format(rad,hgt) + str(instance.area()) )"
   ]
  },
  {
   "cell_type": "markdown",
   "metadata": {},
   "source": [
    "## 2) Define a class MathOperation which implements pow(x,n) without using python's in-built pow() method\n",
    "\n",
    "Sample Execution:\n",
    "\n",
    "M = MathOperation()\n",
    "\n",
    "print(M.pow(2, 3))\n",
    "8\n",
    "\n",
    "print(M.pow(5, -3))\n",
    "0.008\n",
    "\n",
    "print(M.pow(-2, 5))\n",
    "-32\n",
    "\n",
    "print(M.pow(-5, -3))\n",
    "-0.008\n",
    "\n",
    "print(M.pow(20000,0))\n",
    "1"
   ]
  },
  {
   "cell_type": "code",
   "execution_count": 1,
   "metadata": {},
   "outputs": [
    {
     "name": "stdout",
     "output_type": "stream",
     "text": [
      "8\n",
      "0.008\n",
      "-32\n",
      "-0.008\n",
      "1\n"
     ]
    }
   ],
   "source": [
    "class MathOperation:\n",
    "    def pow(self, x, n):\n",
    "        if x==0 or x==1 or n==1:\n",
    "            return x \n",
    "\n",
    "        if x==-1:\n",
    "            if n%2 ==0:\n",
    "                return 1\n",
    "            else:\n",
    "                return -1\n",
    "        if n==0:\n",
    "            return 1\n",
    "        if n<0:\n",
    "            return 1/self.pow(x,-n)\n",
    "        val = self.pow(x,n//2)\n",
    "        if n%2 ==0:\n",
    "            return val*val\n",
    "        return val*val*x\n",
    "M = MathOperation()\n",
    "print(M.pow(2, 3))\n",
    "print(M.pow(5, -3))\n",
    "print(M.pow(-2, 5))\n",
    "print(M.pow(-5, -3))\n",
    "print(M.pow(20000,0))"
   ]
  },
  {
   "cell_type": "markdown",
   "metadata": {},
   "source": [
    "## 3) Write a python program that creates a class Base and Derived. Use inbuilt function issubclass and isinstance which gives boolean results.(True or False)\n"
   ]
  },
  {
   "cell_type": "code",
   "execution_count": 3,
   "metadata": {},
   "outputs": [
    {
     "name": "stdout",
     "output_type": "stream",
     "text": [
      "Base class\n",
      "Derived class\n",
      "Derived class is a subclass of Base class: True\n",
      "Base class is a subclass of Derived class: False\n",
      "Base class is an instance of Derived class: False\n",
      "Derived class is an instance of Base class: True\n"
     ]
    }
   ],
   "source": [
    "class Base:\n",
    "    print (\"Base class\")\n",
    "    \n",
    "class Derived(Base):\n",
    "    print (\"Derived class\")\n",
    "b=Base()\n",
    "d=Derived()  \n",
    "result = issubclass(Derived, Base)\n",
    "print('Derived class is a subclass of Base class:', result)\n",
    "result = issubclass(Base, Derived)\n",
    "print('Base class is a subclass of Derived class:', result)\n",
    "result = isinstance(b, Derived)\n",
    "print('Base class is an instance of Derived class:', result)\n",
    "result = isinstance(d, Base)\n",
    "print('Derived class is an instance of Base class:', result)"
   ]
  },
  {
   "cell_type": "markdown",
   "metadata": {},
   "source": [
    "##  4) Write a python program that creates base class Person which has two methods def init(self, first, last) def str(self) Also create a derived class named Employee which uses the base class method “def str(self)” using “super()” to concatenate first name with last name"
   ]
  },
  {
   "cell_type": "code",
   "execution_count": 5,
   "metadata": {},
   "outputs": [
    {
     "name": "stdout",
     "output_type": "stream",
     "text": [
      "Concatenate first & last name with super class: Meenakshi Namburi\n"
     ]
    }
   ],
   "source": [
    "class Person:\n",
    "    \n",
    "    def __init__(self,first,last): \n",
    "        self.FirstName=first\n",
    "        self.LastName=last\n",
    "    def __str__(self):\n",
    "        return \"Concatenate first & last name with super class: {} {}\".format(self.FirstName, self.LastName)\n",
    "class Employee(Person):\n",
    "    def __init__(self,fname,lname):\n",
    "        super().__init__(fname,lname)\n",
    "        \n",
    "emp=Employee(\"Meenakshi\",\"Namburi\")\n",
    "print(emp)"
   ]
  },
  {
   "cell_type": "code",
   "execution_count": null,
   "metadata": {},
   "outputs": [],
   "source": []
  }
 ],
 "metadata": {
  "kernelspec": {
   "display_name": "Python 3",
   "language": "python",
   "name": "python3"
  },
  "language_info": {
   "codemirror_mode": {
    "name": "ipython",
    "version": 3
   },
   "file_extension": ".py",
   "mimetype": "text/x-python",
   "name": "python",
   "nbconvert_exporter": "python",
   "pygments_lexer": "ipython3",
   "version": "3.7.1"
  }
 },
 "nbformat": 4,
 "nbformat_minor": 2
}
